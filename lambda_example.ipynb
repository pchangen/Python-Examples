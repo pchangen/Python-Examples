{
 "cells": [
  {
   "cell_type": "code",
   "execution_count": 41,
   "metadata": {},
   "outputs": [
    {
     "name": "stdout",
     "output_type": "stream",
     "text": [
      "[0, 1, 4, 9, 16]\n",
      "[0, 1, 4, 9, 16]\n",
      "(0, 1, 4, 9, 16)\n",
      "[1, 2, 3, 4]\n",
      "10\n"
     ]
    }
   ],
   "source": [
    "from functools import reduce \n",
    "\n",
    "listItems = [0,1,2,3,4]\n",
    "\n",
    "f = lambda x:(x**2)\n",
    "print(list(map(f,listItems)))\n",
    "print(list(map(f,range(5))))\n",
    "\n",
    "# map(function, iterable)  return Map Object\n",
    "x = map(lambda x:x**2, [0,1,2,3,4])\n",
    "print(tuple(x))\n",
    "\n",
    "# filter(function, iterable) return Filter Object true result\n",
    "print(list(filter(lambda x:x**2 > 0, listItems)))\n",
    "\n",
    "#reduce(function, iterable)  -> ((((0+1)+2)+3)+4)\n",
    "print(reduce(lambda x, y: x+y,listItems))"
   ]
  },
  {
   "cell_type": "code",
   "execution_count": 32,
   "metadata": {},
   "outputs": [
    {
     "name": "stdout",
     "output_type": "stream",
     "text": [
      "15\n"
     ]
    }
   ],
   "source": [
    "from functools import reduce\n",
    "\n",
    "print(reduce(lambda x, y: x+y, [1, 2, 3, 4, 5]))"
   ]
  },
  {
   "cell_type": "code",
   "execution_count": 15,
   "metadata": {},
   "outputs": [
    {
     "data": {
      "text/plain": [
       "[3, 4, 15, 16]"
      ]
     },
     "execution_count": 15,
     "metadata": {},
     "output_type": "execute_result"
    }
   ],
   "source": [
    "list(map(lambda a,b: a*b, [1, 2, 3, 4],[3,2,5,4]))"
   ]
  },
  {
   "cell_type": "code",
   "execution_count": null,
   "metadata": {},
   "outputs": [],
   "source": []
  }
 ],
 "metadata": {
  "kernelspec": {
   "display_name": "Python 3",
   "language": "python",
   "name": "python3"
  },
  "language_info": {
   "codemirror_mode": {
    "name": "ipython",
    "version": 3
   },
   "file_extension": ".py",
   "mimetype": "text/x-python",
   "name": "python",
   "nbconvert_exporter": "python",
   "pygments_lexer": "ipython3",
   "version": "3.6.5"
  }
 },
 "nbformat": 4,
 "nbformat_minor": 2
}
